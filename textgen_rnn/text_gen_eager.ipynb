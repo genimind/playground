{
 "cells": [
  {
   "cell_type": "markdown",
   "metadata": {},
   "source": [
    "## RNN text generator using Tensorflow Eager execution\n",
    "#### code originally was using Keras"
   ]
  },
  {
   "cell_type": "code",
   "execution_count": 1,
   "metadata": {},
   "outputs": [
    {
     "name": "stdout",
     "output_type": "stream",
     "text": [
      "TensorFlow version: 1.7.0\n",
      "Eager execution: True\n",
      "orignal text has 581864 characters\n"
     ]
    }
   ],
   "source": [
    "import os\n",
    "import matplotlib.pyplot as plt\n",
    "import numpy as np\n",
    "\n",
    "import tensorflow as tf\n",
    "import tensorflow.contrib.eager as tfe\n",
    "\n",
    "tf.enable_eager_execution()\n",
    "\n",
    "print(\"TensorFlow version: {}\".format(tf.VERSION))\n",
    "print(\"Eager execution: {}\".format(tf.executing_eagerly()))\n",
    "\n",
    "dataset_filename = 'dataset/holmes.txt'\n",
    "\n",
    "text = open(dataset_filename).read().lower()\n",
    "print('orignal text has {} characters'.format(len(text)))"
   ]
  },
  {
   "cell_type": "code",
   "execution_count": 2,
   "metadata": {},
   "outputs": [],
   "source": [
    "def cleanup_text(text):\n",
    "    punctuation = ['!', ',', '.', ':', ';', '?']\n",
    "\n",
    "    # get the unique characters in the text\n",
    "    unique_chars = sorted(list(set(text)))\n",
    "    for unique_char in unique_chars:\n",
    "        if unique_char in punctuation:\n",
    "            continue\n",
    "        if unique_char >= 'a' and unique_char <= 'z':\n",
    "            continue\n",
    "        text = text.replace(unique_char, ' ')\n",
    "\n",
    "    return text\n",
    "\n",
    "# remove header and table of contents\n",
    "text = text[1166:]\n",
    "text = cleanup_text(text)\n",
    "\n",
    "# shorten any extra dead space created above\n",
    "text = text.replace('  ',' ')"
   ]
  },
  {
   "cell_type": "code",
   "execution_count": 3,
   "metadata": {},
   "outputs": [
    {
     "name": "stdout",
     "output_type": "stream",
     "text": [
      "this corpus has 573815 total number of characters\n",
      "this corpus has 33 unique characters\n",
      "[' ', '!', ',', '.', ':', ';', '?', 'a', 'b', 'c', 'd', 'e', 'f', 'g', 'h', 'i', 'j', 'k', 'l', 'm', 'n', 'o', 'p', 'q', 'r', 's', 't', 'u', 'v', 'w', 'x', 'y', 'z']\n"
     ]
    }
   ],
   "source": [
    "# print(text[:1000])\n",
    "\n",
    "# count the number of unique characters in the text\n",
    "chars = sorted(list(set(text)))\n",
    "\n",
    "# print some of the text, as well as statistics\n",
    "print (\"this corpus has \" +  str(len(text)) + \" total number of characters\")\n",
    "print (\"this corpus has \" +  str(len(chars)) + \" unique characters\")\n",
    "print (chars)"
   ]
  },
  {
   "cell_type": "markdown",
   "metadata": {},
   "source": [
    "## One-hot encoding"
   ]
  },
  {
   "cell_type": "code",
   "execution_count": 4,
   "metadata": {},
   "outputs": [],
   "source": [
    "# this dictionary is a function mapping each unique character to a unique integer\n",
    "chars_to_indices = dict((c, i) for i, c in enumerate(chars))  # map each unique character to unique integer\n",
    "\n",
    "# this dictionary is a function mapping each unique integer back to a unique character\n",
    "indices_to_chars = dict((i, c) for i, c in enumerate(chars))  # map each unique integer back to unique character\n",
    "\n",
    "\n",
    "# function that transforms the input text and window-size into a set of input/output pairs \n",
    "def window_transform_text(text, window_size, step_size):\n",
    "    # containers for input/output pairs\n",
    "    inputs = []\n",
    "    outputs = []\n",
    "\n",
    "    print('len of text:', len(text))\n",
    "#     num_segments = len(text) // step_size\n",
    "    num_segments = len(text) - window_size\n",
    "    print('num_segments:', num_segments)\n",
    "\n",
    "    for i in range(0, num_segments, step_size):\n",
    "            inputs.append(text[i:i+window_size])\n",
    "\n",
    "    for i in range(0, num_segments, step_size):\n",
    "            offset = window_size+i\n",
    "            outputs.append(text[offset:offset+1])\n",
    "\n",
    "    return inputs,outputs\n",
    "\n",
    "# transform character-based input/output into equivalent numerical versions\n",
    "def encode_io_pairs(text, window_size, step_size):\n",
    "    # number of unique chars\n",
    "    chars = sorted(list(set(text)))\n",
    "    num_chars = len(chars)\n",
    "    \n",
    "    # cut up text into character input/output pairs\n",
    "    inputs, outputs = window_transform_text(text,window_size,step_size)\n",
    "#     print(inputs[:10])\n",
    "#     print(outputs[:10])\n",
    "#     return\n",
    "    \n",
    "    # create empty vessels for one-hot encoded input/output\n",
    "    X = np.zeros((len(inputs), window_size, num_chars), dtype=np.float32)\n",
    "    y = np.zeros((len(inputs), num_chars), dtype=np.float32)\n",
    "    \n",
    "    # loop over inputs/outputs and tranform and store in X/y\n",
    "    for i, sentence in enumerate(inputs):\n",
    "        for t, char in enumerate(sentence):\n",
    "            X[i, t, chars_to_indices[char]] = 1\n",
    "        y[i, chars_to_indices[outputs[i]]] = 1\n",
    "        \n",
    "    return X,y"
   ]
  },
  {
   "cell_type": "code",
   "execution_count": 5,
   "metadata": {},
   "outputs": [
    {
     "name": "stdout",
     "output_type": "stream",
     "text": [
      "len of text: 573815\n",
      "num_segments: 573715\n",
      "X.shape: (114743, 100, 33)\n",
      "y.shape: (114743, 33)\n"
     ]
    }
   ],
   "source": [
    "# produce input/output pairs\n",
    "window_size = 100\n",
    "step_size = 5\n",
    "X,y = encode_io_pairs(text,window_size,step_size)\n",
    "\n",
    "print('X.shape:', X.shape)\n",
    "print('y.shape:', y.shape)"
   ]
  },
  {
   "cell_type": "markdown",
   "metadata": {},
   "source": [
    "### Create a model using Keras\n",
    "\n",
    "The TensorFlow [tf.keras](https://www.tensorflow.org/api_docs/python/tf/keras) API is the preferred way to create models and layers. This makes it easy to build models and experiment while Keras handles the complexity of connecting everything together. See the [Keras documentation](https://keras.io/) for details.\n",
    "\n",
    "The [tf.keras.Sequential](https://www.tensorflow.org/api_docs/python/tf/keras/Sequential) model is a linear stack of layers. Its constructor takes a list of layer instances, in this case, one [LSTM](https://www.tensorflow.org/api_docs/python/tf/keras/layers/LSTM) and one [Dense](https://www.tensorflow.org/api_docs/python/tf/keras/layers/Dense) layers with 'num_chars' nodes each. The first layer's `input_shape` parameter corresponds to the amount of features from the dataset, and is required."
   ]
  },
  {
   "cell_type": "code",
   "execution_count": 6,
   "metadata": {},
   "outputs": [],
   "source": [
    "num_chars = len(chars) # our vocabulary, i.e. unique characters in text\n",
    "\n",
    "def getModel():\n",
    "    model = tf.keras.Sequential([\n",
    "      tf.keras.layers.LSTM(200, input_shape=(window_size, num_chars)),  # input shape required\n",
    "#         tf.keras.layers.Dense(50, activation=\"relu\"),\n",
    "        tf.keras.layers.Dense(num_chars, activation=\"softmax\"),\n",
    "    ])\n",
    "    return model"
   ]
  },
  {
   "cell_type": "markdown",
   "metadata": {},
   "source": [
    "### Train the model\n",
    "\n",
    "#### Define the loss and gradient function\n",
    "\n",
    "Both training and evaluation stages need to calculate the model's *[loss](https://developers.google.com/machine-learning/crash-course/glossary#loss)*. This measures how off a model's predictions are from the desired output. We want to minimize, or optimize, this value.\n",
    "\n",
    "Our model will calculate its loss using the [tf.keras.losses.categorical_crossentropy](https://www.tensorflow.org/api_docs/python/tf/keras/losses/categorical_crossentropy) function which takes the model's prediction and the desired output. The returned loss value is progressively larger as the prediction gets worse.\n",
    "\n",
    "The `grad` function uses the `loss` function and the [tfe.GradientTape](https://www.tensorflow.org/api_docs/python/tf/contrib/eager/GradientTape) to record operations that compute the *[gradients](https://developers.google.com/machine-learning/crash-course/glossary#gradient)* used to optimize our model."
   ]
  },
  {
   "cell_type": "code",
   "execution_count": 7,
   "metadata": {},
   "outputs": [],
   "source": [
    "def loss(model, x, y):\n",
    "    y_ = model(x)\n",
    "    return tf.keras.losses.categorical_crossentropy(y, y_)\n",
    "\n"
   ]
  },
  {
   "cell_type": "code",
   "execution_count": 8,
   "metadata": {},
   "outputs": [],
   "source": [
    "def grad(model, inputs, targets):\n",
    "    with tfe.GradientTape() as tape:\n",
    "        loss_value = loss(model, inputs, targets)\n",
    "    return tape.gradient(loss_value, model.variables)"
   ]
  },
  {
   "cell_type": "markdown",
   "metadata": {},
   "source": [
    "#### Define the optimizer\n",
    "TensorFlow has many [optimization algorithms](https://www.tensorflow.org/api_guides/python/train) available for training. This model uses the [tf.train.GradientDescentOptimizer](https://www.tensorflow.org/api_docs/python/tf/train/GradientDescentOptimizer) that implements the *[stochastic gradient descent](https://developers.google.com/machine-learning/crash-course/glossary#gradient_descent)* (SGD) algorithm. The `learning_rate` sets the step size to take for each iteration down the hill. "
   ]
  },
  {
   "cell_type": "code",
   "execution_count": 9,
   "metadata": {},
   "outputs": [],
   "source": [
    "# optimizer = tf.train.GradientDescentOptimizer(learning_rate=0.001)\n",
    "optimizer = tf.train.RMSPropOptimizer(learning_rate=0.001, epsilon=1e-08)"
   ]
  },
  {
   "cell_type": "markdown",
   "metadata": {},
   "source": [
    "#### Training the model"
   ]
  },
  {
   "cell_type": "code",
   "execution_count": 10,
   "metadata": {},
   "outputs": [
    {
     "name": "stdout",
     "output_type": "stream",
     "text": [
      "<BatchDataset shapes: ((?, 100, 33), (?, 33)), types: (tf.float32, tf.float32)>\n",
      "Epoch 000: Loss: 2.736, Accuracy: 0.000% - in: 895.857 sec.\n",
      "Epoch 001: Loss: 2.267, Accuracy: 0.000% - in: 894.143 sec.\n",
      "Epoch 002: Loss: 2.090, Accuracy: 0.000% - in: 827.263 sec.\n",
      "Epoch 003: Loss: 1.969, Accuracy: 0.000% - in: 814.955 sec.\n",
      "Epoch 004: Loss: 1.876, Accuracy: 0.000% - in: 816.137 sec.\n",
      "Epoch 005: Loss: 1.801, Accuracy: 0.000% - in: 817.035 sec.\n",
      "Epoch 006: Loss: 1.738, Accuracy: 0.000% - in: 817.922 sec.\n",
      "Epoch 007: Loss: 1.682, Accuracy: 0.000% - in: 817.942 sec.\n",
      "Epoch 008: Loss: 1.630, Accuracy: 0.000% - in: 818.598 sec.\n",
      "Epoch 009: Loss: 1.582, Accuracy: 0.000% - in: 819.252 sec.\n",
      "Epoch 010: Loss: 1.536, Accuracy: 0.000% - in: 819.149 sec.\n",
      "Epoch 011: Loss: 1.493, Accuracy: 0.000% - in: 819.292 sec.\n",
      "Epoch 012: Loss: 1.451, Accuracy: 0.000% - in: 820.009 sec.\n",
      "Epoch 013: Loss: 1.410, Accuracy: 0.000% - in: 820.433 sec.\n",
      "Epoch 014: Loss: 1.371, Accuracy: 0.000% - in: 820.718 sec.\n",
      "Epoch 015: Loss: 1.333, Accuracy: 0.000% - in: 821.171 sec.\n",
      "Epoch 016: Loss: 1.295, Accuracy: 0.000% - in: 821.570 sec.\n",
      "Epoch 017: Loss: 1.257, Accuracy: 0.000% - in: 821.655 sec.\n",
      "Epoch 018: Loss: 1.220, Accuracy: 0.000% - in: 821.823 sec.\n",
      "Epoch 019: Loss: 1.183, Accuracy: 0.000% - in: 822.551 sec.\n",
      "Epoch 020: Loss: 1.147, Accuracy: 0.000% - in: 823.323 sec.\n",
      "Epoch 021: Loss: 1.111, Accuracy: 0.000% - in: 822.930 sec.\n",
      "Epoch 022: Loss: 1.079, Accuracy: 0.000% - in: 822.558 sec.\n",
      "Epoch 023: Loss: 1.046, Accuracy: 0.000% - in: 822.783 sec.\n",
      "Epoch 024: Loss: 1.015, Accuracy: 0.000% - in: 822.573 sec.\n",
      "Epoch 025: Loss: 0.991, Accuracy: 0.000% - in: 824.276 sec.\n",
      "Epoch 026: Loss: 0.964, Accuracy: 0.000% - in: 823.469 sec.\n",
      "Epoch 027: Loss: 0.939, Accuracy: 0.000% - in: 823.388 sec.\n",
      "Epoch 028: Loss: 0.917, Accuracy: 0.000% - in: 824.041 sec.\n",
      "Epoch 029: Loss: 0.897, Accuracy: 0.000% - in: 838.317 sec.\n",
      "Epoch 030: Loss: 0.878, Accuracy: 0.000% - in: 826.461 sec.\n",
      "Epoch 031: Loss: 0.862, Accuracy: 0.000% - in: 872.956 sec.\n",
      "Epoch 032: Loss: 0.845, Accuracy: 0.000% - in: 868.360 sec.\n",
      "Epoch 033: Loss: 0.832, Accuracy: 0.000% - in: 882.640 sec.\n",
      "Epoch 034: Loss: 0.818, Accuracy: 0.000% - in: 906.172 sec.\n",
      "Epoch 035: Loss: 0.802, Accuracy: 0.000% - in: 893.869 sec.\n",
      "Epoch 036: Loss: 0.791, Accuracy: 0.000% - in: 884.974 sec.\n",
      "Epoch 037: Loss: 0.777, Accuracy: 0.000% - in: 881.863 sec.\n",
      "Epoch 038: Loss: 0.765, Accuracy: 0.000% - in: 919.762 sec.\n",
      "Epoch 039: Loss: 0.753, Accuracy: 0.000% - in: 905.875 sec.\n",
      "Epoch 040: Loss: 0.742, Accuracy: 0.001% - in: 892.683 sec.\n",
      "Epoch 041: Loss: 0.734, Accuracy: 0.001% - in: 890.519 sec.\n",
      "Epoch 042: Loss: 0.720, Accuracy: 0.001% - in: 851.019 sec.\n",
      "Epoch 043: Loss: 0.713, Accuracy: 0.001% - in: 826.737 sec.\n",
      "Epoch 044: Loss: 0.704, Accuracy: 0.001% - in: 826.016 sec.\n",
      "Epoch 045: Loss: 0.695, Accuracy: 0.002% - in: 826.562 sec.\n",
      "Epoch 046: Loss: 0.687, Accuracy: 0.002% - in: 826.758 sec.\n",
      "Epoch 047: Loss: 0.676, Accuracy: 0.002% - in: 826.948 sec.\n",
      "Epoch 048: Loss: 0.670, Accuracy: 0.003% - in: 826.981 sec.\n",
      "Epoch 049: Loss: 0.662, Accuracy: 0.003% - in: 824.323 sec.\n"
     ]
    }
   ],
   "source": [
    "import time\n",
    "\n",
    "num_epochs = 50\n",
    "batch_size = 500\n",
    "\n",
    "# a small subset of our input/output pairs\n",
    "Xsmall = X[:100000,:,:]\n",
    "ysmall = y[:100000,:]\n",
    "\n",
    "# keep results for plotting\n",
    "train_loss_results = []\n",
    "train_accuracy_results = []\n",
    "\n",
    "training_dataset = tf.data.Dataset.from_tensor_slices((Xsmall, ysmall))\n",
    "training_dataset = training_dataset.batch(batch_size)\n",
    "print(training_dataset)\n",
    "\n",
    "model = getModel()\n",
    "\n",
    "for epoch in range(num_epochs):\n",
    "    epoch_loss_avg = tfe.metrics.Mean()\n",
    "    epoch_accuracy = tfe.metrics.Accuracy()\n",
    "    \n",
    "    startTime = time.time()\n",
    "    # training using batches of 'batch_size'\n",
    "    for X, y in tfe.Iterator(training_dataset):\n",
    "        grads = grad(model, X, y)\n",
    "        optimizer.apply_gradients(zip(grads, model.variables), \n",
    "                                 global_step=tf.train.get_or_create_global_step())\n",
    "        epoch_loss_avg(loss(model, X, y)) # batch loss\n",
    "        epoch_accuracy(model(X), y)\n",
    "        \n",
    "    train_loss_results.append(epoch_loss_avg.result())\n",
    "    train_accuracy_results.append(epoch_accuracy.result())\n",
    "    \n",
    "    if epoch % 1 == 0:\n",
    "        print(\"Epoch {:03d}: Loss: {:.3f}, Accuracy: {:.3%} - in: {:.3f} sec.\".format(epoch, \n",
    "                                                                    epoch_loss_avg.result(), \n",
    "                                                                    epoch_accuracy.result(),\n",
    "                                                                    (time.time()-startTime)))        \n"
   ]
  },
  {
   "cell_type": "code",
   "execution_count": 11,
   "metadata": {},
   "outputs": [
    {
     "data": {
      "image/png": "[encoded data removed]",
      "text/plain": [
       "<matplotlib.figure.Figure at 0x1d28ec6a0>"
      ]
     },
     "metadata": {},
     "output_type": "display_data"
    }
   ],
   "source": [
    "fig, axes = plt.subplots(2, sharex=True, figsize=(12, 8))\n",
    "fig.suptitle('Training Metrics')\n",
    "\n",
    "axes[0].set_ylabel(\"Loss\", fontsize=14)\n",
    "axes[0].plot(train_loss_results)\n",
    "\n",
    "# axes[1].set_ylabel(\"Accuracy\", fontsize=14)\n",
    "# axes[1].set_xlabel(\"Epoch\", fontsize=14)\n",
    "# axes[1].plot(train_accuracy_results)\n",
    "\n",
    "plt.show()"
   ]
  },
  {
   "cell_type": "markdown",
   "metadata": {},
   "source": [
    "#### Save model to a file"
   ]
  },
  {
   "cell_type": "code",
   "execution_count": 15,
   "metadata": {},
   "outputs": [],
   "source": [
    "model_filepath = 'models/model_large_window_100.hdfs'\n",
    "\n",
    "tf.keras.models.save_model(\n",
    "    model,\n",
    "    model_filepath,\n",
    "    overwrite=True,\n",
    "    include_optimizer=True\n",
    ")"
   ]
  },
  {
   "cell_type": "markdown",
   "metadata": {},
   "source": [
    "#### Generate text utilities"
   ]
  },
  {
   "cell_type": "code",
   "execution_count": 12,
   "metadata": {},
   "outputs": [],
   "source": [
    "# function that uses trained model to predict a desired number of future characters\n",
    "def predict_next_chars(model,input_chars,num_to_predict):     \n",
    "    # create output\n",
    "    predicted_chars = ''\n",
    "    for i in range(num_to_predict):\n",
    "        # convert this round's predicted characters to numerical input    \n",
    "        x_test = np.zeros((1, window_size, len(chars)), dtype=np.float32)\n",
    "        for t, char in enumerate(input_chars):\n",
    "            x_test[0, t, chars_to_indices[char]] = 1.\n",
    "\n",
    "        x_test = tf.convert_to_tensor(x_test)\n",
    "\n",
    "        # make this round's prediction\n",
    "        test_predict = model(x_test)\n",
    "\n",
    "        # translate numerical prediction back to characters\n",
    "        r = np.argmax(test_predict)                           # predict class of each test input\n",
    "        d = indices_to_chars[r] \n",
    "\n",
    "        # update predicted_chars and input\n",
    "        predicted_chars+=d\n",
    "        input_chars+=d\n",
    "        input_chars = input_chars[1:]\n",
    "    return predicted_chars"
   ]
  },
  {
   "cell_type": "code",
   "execution_count": 14,
   "metadata": {},
   "outputs": [
    {
     "name": "stdout",
     "output_type": "stream",
     "text": [
      "------------------\n",
      "input chars = \n",
      "d finally of the mission which he had accomplished so delicately and successfully for the reigning f\"\n",
      "\n",
      "predicted chars = \n",
      "angs in the onder said he, and then he was dear doust, and little here be the subble to the othere w\"\n",
      "\n",
      "------------------\n",
      "input chars = \n",
      "aders of the daily press, i knew little of my former friend and companion. one night it was on the t\"\n",
      "\n",
      "predicted chars = \n",
      "hat hes and like a room realonge. i shopld to the beld which has been do through the stone plate the\"\n",
      "\n",
      "------------------\n",
      "input chars = \n",
      "actice , when my way led me through baker street. as i passed the well remembered door, which must a\"\n",
      "\n",
      "predicted chars = \n",
      " cound spolles stall bark and surpoish of the recimonative a susifelf the hand of the mather pase st\"\n",
      "\n"
     ]
    }
   ],
   "source": [
    "start_inds = [2200, 2400, 2600]\n",
    "\n",
    "for s in start_inds:\n",
    "    start_index = s\n",
    "    input_chars = text[start_index: start_index + window_size]\n",
    "\n",
    "    # use the prediction function\n",
    "    predict_input = predict_next_chars(model, input_chars, num_to_predict = 100)\n",
    "\n",
    "    # print out input characters\n",
    "    print('------------------')\n",
    "    input_line = 'input chars = ' + '\\n' +  input_chars + '\"' + '\\n'\n",
    "    print(input_line)\n",
    "\n",
    "    # print out predicted characters\n",
    "    line = 'predicted chars = ' + '\\n' +  predict_input + '\"' + '\\n'\n",
    "    print(line)"
   ]
  },
  {
   "cell_type": "code",
   "execution_count": null,
   "metadata": {},
   "outputs": [],
   "source": []
  }
 ],
 "metadata": {
  "kernelspec": {
   "display_name": "Python 3",
   "language": "python",
   "name": "python3"
  },
  "language_info": {
   "codemirror_mode": {
    "name": "ipython",
    "version": 3
   },
   "file_extension": ".py",
   "mimetype": "text/x-python",
   "name": "python",
   "nbconvert_exporter": "python",
   "pygments_lexer": "ipython3",
   "version": "3.6.0"
  }
 },
 "nbformat": 4,
 "nbformat_minor": 2
}
